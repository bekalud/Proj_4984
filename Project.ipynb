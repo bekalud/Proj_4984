{
  "nbformat": 4,
  "nbformat_minor": 0,
  "metadata": {
    "colab": {
      "provenance": []
    },
    "kernelspec": {
      "name": "python3",
      "display_name": "Python 3"
    },
    "language_info": {
      "name": "python"
    }
  },
  "cells": [
    {
      "cell_type": "code",
      "execution_count": 48,
      "metadata": {
        "id": "qipkuHWkjLor"
      },
      "outputs": [],
      "source": [
        "import torch\n",
        "import torch.optim as optim\n",
        "import torch.nn as nn\n",
        "import numpy as np\n",
        "import torchvision\n",
        "import torch.nn.functional as F\n",
        "from torch.utils.data import DataLoader\n",
        "from torchvision import transforms, datasets\n",
        "import matplotlib.pyplot as plt\n",
        "\n",
        "import cv2 # Used to rotate MNIST images"
      ]
    },
    {
      "cell_type": "code",
      "source": [
        "class rotate_img(object):\n",
        "  def __call__(self, img):\n",
        "    rotation_transform = transforms.RandomRotation((0,360))\n",
        "    rotated_img = rotation_transform(img)\n",
        "\n",
        "    return rotated_img"
      ],
      "metadata": {
        "id": "aVl1SPHTHc8m"
      },
      "execution_count": 49,
      "outputs": []
    },
    {
      "cell_type": "code",
      "source": [
        "# MNIST images\n",
        "train = torchvision.datasets.MNIST('', train=True, download=True, transform=transforms.Compose([transforms.ToTensor(),\n",
        "                                                                                                rotate_img()]))\n",
        "test = torchvision.datasets.MNIST('', train=False, download=True,transform=transforms.Compose([transforms.ToTensor(),\n",
        "                                                                                               rotate_img()]))\n",
        "trainset = torch.utils.data.DataLoader(train, batch_size=128, shuffle=True)\n",
        "testset = torch.utils.data.DataLoader(test, batch_size=128, shuffle=False)"
      ],
      "metadata": {
        "id": "Sqio21FvjjBq"
      },
      "execution_count": 50,
      "outputs": []
    },
    {
      "cell_type": "markdown",
      "source": [
        "# 1. Rotating MNIST images\n",
        "First part of the project will be devising a method to rotate the MNIST data set to expand the number of training and testing images."
      ],
      "metadata": {
        "id": "QpJ_QfKqupUW"
      }
    },
    {
      "cell_type": "code",
      "source": [
        "# Original image\n",
        "images, labels = next(iter(trainset))\n",
        "plt.imshow(images[0].reshape(28,28), cmap=\"gray\")\n",
        "print(labels[0])"
      ],
      "metadata": {
        "colab": {
          "base_uri": "https://localhost:8080/",
          "height": 448
        },
        "id": "eEx0FqKFoRwC",
        "outputId": "fbe436f8-e010-4dda-f414-35afb3d12627"
      },
      "execution_count": 51,
      "outputs": [
        {
          "output_type": "stream",
          "name": "stdout",
          "text": [
            "tensor(2)\n"
          ]
        },
        {
          "output_type": "display_data",
          "data": {
            "text/plain": [
              "<Figure size 640x480 with 1 Axes>"
            ],
            "image/png": "[encoded data removed]"
          },
          "metadata": {}
        }
      ]
    },
    {
      "cell_type": "markdown",
      "source": [
        "# 2. Build a Model"
      ],
      "metadata": {
        "id": "FB1kTt18kT_G"
      }
    },
    {
      "cell_type": "code",
      "source": [
        "class LeNet5(nn.Module):\n",
        "    def __init__(self):\n",
        "        super(LeNet5, self).__init__() \n",
        "        self.conv1 = nn.Conv2d(in_channels=1, out_channels=6, kernel_size=5, stride=1)\n",
        "        self.conv2 = nn.Conv2d(in_channels=6, out_channels=16, kernel_size=5, stride=1)\n",
        "        self.pool  = nn.AvgPool2d(kernel_size=2)\n",
        "        self.fc1 = nn.Linear(256, 120)\n",
        "        self.fc2 = nn.Linear(120, 84)\n",
        "        self.fc3 = nn.Linear(84, 10)\n",
        "\n",
        "    def forward(self, x):\n",
        "        y = self.conv1(x)\n",
        "        y = F.relu(y)\n",
        "        y = self.pool(y)\n",
        "        y = self.conv2(y)\n",
        "        y = F.relu(y)\n",
        "        y = self.pool(y)\n",
        "        y = y.view(y.shape[0], -1)\n",
        "        y = self.fc1(y)\n",
        "        y = F.relu(y)\n",
        "        y = self.fc2(y)\n",
        "        y = F.relu(y)\n",
        "        y = self.fc3(y)\n",
        "        return y"
      ],
      "metadata": {
        "id": "KpwAHLDZkcCE"
      },
      "execution_count": 52,
      "outputs": []
    },
    {
      "cell_type": "code",
      "source": [
        "device = 'cuda' if torch.cuda.is_available() else 'cpu'\n",
        "net = LeNet5().to(device)\n",
        "loss_criterion = nn.CrossEntropyLoss()\n",
        "optimizer = optim.SGD(net.parameters(), lr=0.01, momentum=0.9)"
      ],
      "metadata": {
        "id": "abo4Gd0VrpJR"
      },
      "execution_count": 53,
      "outputs": []
    },
    {
      "cell_type": "markdown",
      "source": [
        "# 3. Training and Testing"
      ],
      "metadata": {
        "id": "mEVCltBQX2t8"
      }
    },
    {
      "cell_type": "code",
      "source": [
        "accuracy_output = np.zeros(20)\n",
        "\n",
        "for epoch in range(20): \n",
        "  for data in trainset:  \n",
        "    X, y = data\n",
        "    X = X.to(device)\n",
        "    y = y.to(device) \n",
        "    net.zero_grad()  \n",
        "    output = net(X)  \n",
        "    loss = loss_criterion(output, y)  \n",
        "\n",
        "    # Backpropergation \n",
        "    loss.backward()  \n",
        "    optimizer.step()  \n",
        "\n",
        "    correct = 0\n",
        "    total = 0\n",
        "\n",
        "  with torch.no_grad():\n",
        "    for data in testset:\n",
        "      X, y = data\n",
        "      X = X.to(device)\n",
        "      y = y.to(device)\n",
        "      output = net(X)\n",
        "\n",
        "      for idx, i in enumerate(output):\n",
        "        if torch.argmax(i) == y[idx]:\n",
        "          correct += 1\n",
        "        total += 1\n",
        "    accuracy_output[epoch] = round(correct/total, 4)\n",
        "\n",
        "\n",
        "epoch = np.array([(i + 1) for i in range(20)])\n",
        "plt.plot(epoch, accuracy_output)"
      ],
      "metadata": {
        "colab": {
          "base_uri": "https://localhost:8080/",
          "height": 448
        },
        "id": "nn0OY3G4rtYR",
        "outputId": "d8f3f84c-a1ef-47ac-ba8d-57ca8feb09b2"
      },
      "execution_count": 55,
      "outputs": [
        {
          "output_type": "execute_result",
          "data": {
            "text/plain": [
              "[<matplotlib.lines.Line2D at 0x7f19d66c2560>]"
            ]
          },
          "metadata": {},
          "execution_count": 55
        },
        {
          "output_type": "display_data",
          "data": {
            "text/plain": [
              "<Figure size 640x480 with 1 Axes>"
            ],
            "image/png": "[encoded data removed]"
          },
          "metadata": {}
        }
      ]
    },
    {
      "cell_type": "code",
      "source": [
        "print(\"Accuracy: \", round(accuracy_output[19], 2))"
      ],
      "metadata": {
        "colab": {
          "base_uri": "https://localhost:8080/"
        },
        "id": "PzPFb2boX508",
        "outputId": "b902367d-4172-418b-ddbe-773b9623f956"
      },
      "execution_count": 57,
      "outputs": [
        {
          "output_type": "stream",
          "name": "stdout",
          "text": [
            "Accuracy:  0.96\n"
          ]
        }
      ]
    }
  ]
}